{
 "nbformat": 4,
 "nbformat_minor": 0,
 "metadata": {
  "colab": {
   "provenance": []
  },
  "kernelspec": {
   "name": "python3",
   "display_name": "Python 3 (ipykernel)",
   "language": "python"
  },
  "language_info": {
   "name": "python"
  }
 },
 "cells": [
  {
   "cell_type": "markdown",
   "source": [
    "# AIM : To apply hyperparameter tuning to ML Algorithm and analyse the impact\n",
    "\n",
    "**Name : Trideep Nandi**\n",
    "\n",
    "**Class : CS4**\n",
    "\n",
    "**Batch: 2**\n",
    "\n",
    "**Enrollment : 0827CS211248**"
   ],
   "metadata": {
    "id": "ggMXpv6maZdy"
   }
  },
  {
   "metadata": {},
   "cell_type": "markdown",
   "source": [
    "# Hyperparameter Tuning in Machine Learning\n",
    "\n",
    "#### Introduction\n",
    "\n",
    "Hyperparameter tuning is a crucial step in the process of building a machine learning model. Hyperparameters are parameters whose values are set before the learning process begins. Unlike model parameters, they cannot be learned from the data during training and must be predefined. \n",
    "\n",
    "Hyperparameters can be thought of as the settings of an algorithm that can be adjusted to optimize performance. Some examples of hyperparameters include the learning rate for models that learn from gradient descent, the depth of a decision tree, and the k in k-nearest neighbors.\n",
    "\n",
    "The process of hyperparameter tuning involves selecting the combination of hyperparameters for a learning algorithm that performs the best - as measured on a validation set - for a particular problem. Hyperparameter tuning can result in significant improvements in model performance by finding a set of optimal hyperparameters for a learning algorithm. \n",
    "\n",
    "However, it's important to note that there's no one-size-fits-all set of optimal hyperparameters for a given algorithm since the optimal settings often depend on the specific characteristics of the data. Therefore, hyperparameter tuning is typically performed for each machine learning problem individually.\n",
    "\n"
   ]
  },
  {
   "metadata": {},
   "cell_type": "markdown",
   "source": [
    "#### Problem Statement\n",
    "\n",
    "In this notebook, we will be demonstrating the impact of hyperparameter tuning on a Ridge Regression model using the Diabetes dataset from sklearn."
   ]
  },
  {
   "metadata": {},
   "cell_type": "markdown",
   "source": [
    "#### Loading the Dataset\n",
    "\n",
    "We start by loading the Diabetes dataset from sklearn. This dataset is used to predict a quantitative measure of disease progression one year after baseline."
   ]
  },
  {
   "metadata": {
    "ExecuteTime": {
     "end_time": "2024-05-08T09:06:56.728711Z",
     "start_time": "2024-05-08T09:06:55.917361Z"
    }
   },
   "cell_type": "code",
   "source": "from sklearn.datasets import load_diabetes",
   "outputs": [],
   "execution_count": 1
  },
  {
   "metadata": {
    "ExecuteTime": {
     "end_time": "2024-05-08T09:06:58.309075Z",
     "start_time": "2024-05-08T09:06:58.297481Z"
    }
   },
   "cell_type": "code",
   "source": [
    "# Load the Diabetes dataset\n",
    "X, y = load_diabetes(return_X_y=True)"
   ],
   "outputs": [],
   "execution_count": 2
  },
  {
   "metadata": {},
   "cell_type": "markdown",
   "source": [
    "\n",
    "#### Splitting the Dataset\n",
    "\n",
    "We then split the dataset into training and testing sets. This is an important step for model validation."
   ]
  },
  {
   "metadata": {
    "ExecuteTime": {
     "end_time": "2024-05-08T09:07:00.749976Z",
     "start_time": "2024-05-08T09:07:00.693490Z"
    }
   },
   "cell_type": "code",
   "source": "from sklearn.model_selection import train_test_split",
   "outputs": [],
   "execution_count": 3
  },
  {
   "cell_type": "code",
   "metadata": {
    "colab": {
     "base_uri": "https://localhost:8080/"
    },
    "id": "6G0cqvpLaR3k",
    "outputId": "16a2178e-c134-4bd3-92c4-92cb5a763267",
    "ExecuteTime": {
     "end_time": "2024-05-08T09:07:01.612121Z",
     "start_time": "2024-05-08T09:07:01.606500Z"
    }
   },
   "source": [
    "# Split the dataset into training and testing sets\n",
    "X_train, X_test, y_train, y_test = train_test_split(X, y, test_size=0.2, random_state=42)"
   ],
   "outputs": [],
   "execution_count": 4
  },
  {
   "metadata": {},
   "cell_type": "markdown",
   "source": [
    "#### Model without Hyperparameter Tuning\n",
    "\n",
    "We first train a Ridge Regression model without any hyperparameter tuning. We then calculate and display the Mean Squared Error (MSE) to evaluate the model's performance."
   ]
  },
  {
   "metadata": {
    "ExecuteTime": {
     "end_time": "2024-05-08T09:07:03.718714Z",
     "start_time": "2024-05-08T09:07:03.657774Z"
    }
   },
   "cell_type": "code",
   "source": [
    "from sklearn.linear_model import Ridge\n",
    "from sklearn.metrics import mean_squared_error"
   ],
   "outputs": [],
   "execution_count": 5
  },
  {
   "metadata": {
    "ExecuteTime": {
     "end_time": "2024-05-08T09:07:04.327796Z",
     "start_time": "2024-05-08T09:07:04.278817Z"
    }
   },
   "cell_type": "code",
   "source": [
    "# Define the model\n",
    "model = Ridge()\n",
    "\n",
    "# Train the model\n",
    "model.fit(X_train, y_train)\n",
    "\n",
    "# Make predictions\n",
    "y_pred = model.predict(X_test)\n",
    "\n",
    "# Evaluate the model\n",
    "mse = mean_squared_error(y_test, y_pred)\n",
    "print(\"Mean Squared Error:\", mse)"
   ],
   "outputs": [
    {
     "name": "stdout",
     "output_type": "stream",
     "text": [
      "Mean Squared Error: 3077.41593882723\n"
     ]
    }
   ],
   "execution_count": 6
  },
  {
   "cell_type": "markdown",
   "source": [
    "#### Model with Hyperparameter Tuning\n",
    "\n",
    "Next, we perform hyperparameter tuning using GridSearchCV. GridSearchCV is a method used to tune our hyperparameters. We provide it with the hyperparameters, and the values it needs to experiment with, and it will use cross-validation to evaluate the performance."
   ],
   "metadata": {
    "id": "CxIQeAmEaZgC"
   }
  },
  {
   "cell_type": "code",
   "source": [
    "from sklearn.datasets import load_diabetes\n",
    "from sklearn.model_selection import train_test_split, GridSearchCV\n",
    "from sklearn.linear_model import Ridge\n",
    "from sklearn.metrics import mean_squared_error\n",
    "\n",
    "# Load the Diabetes dataset\n",
    "X, y = load_diabetes(return_X_y=True)\n",
    "X_train, X_test, y_train, y_test = train_test_split(X, y, test_size=0.2, random_state=42)\n",
    "\n",
    "# Define the model\n",
    "model = Ridge()\n",
    "\n",
    "# Define the hyperparameter grid\n",
    "param_grid = {'alpha': [0.01, 0.1, 1, 10, 100]}\n",
    "\n",
    "# Perform grid search cross-validation\n",
    "grid_search = GridSearchCV(model, param_grid, cv=5, scoring='neg_mean_squared_error')\n",
    "grid_search.fit(X_train, y_train)\n",
    "\n",
    "# Get the best hyperparameters\n",
    "best_params = grid_search.best_params_\n",
    "print(\"Best Hyperparameters:\", best_params)\n",
    "\n",
    "# Evaluate the model with the best hyperparameters\n",
    "best_model = grid_search.best_estimator_\n",
    "y_pred = best_model.predict(X_test)\n",
    "mse_h = mean_squared_error(y_test, y_pred)\n",
    "print(\"Mean Squared Error:\", mse_h)\n"
   ],
   "metadata": {
    "colab": {
     "base_uri": "https://localhost:8080/"
    },
    "id": "67ccxu06b3_i",
    "outputId": "143592dc-1d4e-4503-c5da-071e13426719",
    "ExecuteTime": {
     "end_time": "2024-05-08T09:07:05.704733Z",
     "start_time": "2024-05-08T09:07:05.669619Z"
    }
   },
   "outputs": [
    {
     "name": "stdout",
     "output_type": "stream",
     "text": [
      "Best Hyperparameters: {'alpha': 0.1}\n",
      "Mean Squared Error: 2856.4868876706546\n"
     ]
    }
   ],
   "execution_count": 7
  },
  {
   "metadata": {},
   "cell_type": "markdown",
   "source": [
    "#### Analysis\n",
    "\n",
    "Finally, we compare the performance of the model with and without hyperparameter tuning. We discuss the impact of hyperparameter tuning on the model's performance. In this case, the MSE decreased after hyperparameter tuning, indicating an improvement in the model's performance."
   ]
  },
  {
   "metadata": {
    "ExecuteTime": {
     "end_time": "2024-05-08T09:07:12.886444Z",
     "start_time": "2024-05-08T09:07:12.326969Z"
    }
   },
   "cell_type": "code",
   "source": [
    "import matplotlib.pyplot as plt\n",
    "\n",
    "plt.figure(figsize=(10, 6))\n",
    "plt.bar(['Without Hyperparameter Tuning', 'With Hyperparameter Tuning'], [mse, mse_h])\n",
    "plt.ylabel('Mean Squared Error')\n",
    "plt.title('Comparison of Model Performance With and Without Hyperparameter Tuning')\n",
    "plt.show()"
   ],
   "outputs": [
    {
     "data": {
      "text/plain": [
       "<Figure size 1000x600 with 1 Axes>"
      ],
      "image/png": "[encoded data removed]"
     },
     "metadata": {},
     "output_type": "display_data"
    }
   ],
   "execution_count": 8
  }
 ]
}
