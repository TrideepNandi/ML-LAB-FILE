{
  "cells": [
    {
      "cell_type": "markdown",
      "metadata": {
        "id": "8S5q8WnWs0CB"
      },
      "source": [
        "### What is an outlier?\n",
        "An outlier is a data point in a data set that is distant from all other observations. A data point that lies outside the overall distribution of the dataset."
      ]
    },
    {
      "cell_type": "code",
      "execution_count": null,
      "metadata": {
        "id": "fOrxAjr0s0CF"
      },
      "outputs": [],
      "source": [
        "import numpy as np\n",
        "import matplotlib.pyplot as plt\n",
        "%matplotlib inline"
      ]
    },
    {
      "cell_type": "markdown",
      "metadata": {
        "id": "rcaPbrTms0CI"
      },
      "source": [
        "### What are the criteria to identify an outlier?\n",
        "\n",
        "1. Data point that falls outside of 1.5 times of an interquartile range above the 3rd quartile and below the 1st quartile\n",
        "2. Data point that falls outside of 3 standard deviations. we can use a z score and if the z score falls outside of 2 standard deviation\n",
        "\n",
        "### What is the reason for an outlier to exists in a dataset?\n",
        "\n",
        "1. Variability in the data\n",
        "2. An experimental measurement error\n",
        "\n",
        "### What are the impacts of having outliers in a dataset?\n",
        "\n",
        "1. It causes various problems during our statistical analysis\n",
        "2. It may cause a significant impact on the mean and the standard deviation\n",
        "\n",
        "### Various ways of finding the outlier.\n",
        "1. Using scatter plots\n",
        "2. Box plot\n",
        "3. using z score\n",
        "4. using the IQR interquantile range\n",
        "\n"
      ]
    },
    {
      "cell_type": "code",
      "execution_count": null,
      "metadata": {
        "id": "mano7t9cs0CJ"
      },
      "outputs": [],
      "source": [
        "dataset= [11,10,12,14,12,15,14,13,15,102,12,14,17,19,107, 10,13,12,14,12,108,12,11,14,13,15,10,15,12,10,14,13,15,10]"
      ]
    },
    {
      "cell_type": "markdown",
      "metadata": {
        "id": "8P1VJOX9s0CK"
      },
      "source": [
        "## Detecting outlier using Z score\n",
        "\n",
        "### Using Z score\n",
        "\n",
        "Formula for Z score = (Observation — Mean)/Standard Deviation\n",
        "\n",
        "z = (X — μ) / σ"
      ]
    },
    {
      "cell_type": "markdown",
      "metadata": {},
      "source": [
        "The Z-score is a statistical measurement that describes a value's relationship to the mean of a group of values. It is measured in terms of standard deviations from the mean. If a Z-score is 0, it indicates that the data point's score is identical to the mean score. A Z-score of 1.0 would indicate a value that is one standard deviation from the mean.\n",
        "\n",
        "In terms of outlier detection, if a data point's Z-score is too high or too low (for instance, a common threshold is a Z-score of +/- 3 or more), it could be considered an outlier. This is because it is unusually far from the mean. \n",
        "\n",
        "Here's how you can calculate the Z-score and use it to detect outliers:\n",
        "\n",
        "1. Calculate the mean (μ) and standard deviation (σ) of the dataset.\n",
        "2. For each data point (x) in the dataset, calculate the Z-score using the formula: Z = (x - μ) / σ\n",
        "3. If the Z-score of a data point is greater than a certain threshold (e.g., 3), it is considered an outlier.\n",
        "\n",
        "This method assumes that the data follows a normal distribution, and might not work well with data that is not normally distributed."
      ]
    },
    {
      "cell_type": "markdown",
      "metadata": {},
      "source": [
        "#### Exploring the Z-score method for identifying outliers in our dataset"
      ]
    },
    {
      "cell_type": "markdown",
      "metadata": {},
      "source": [
        "The function detect_outliers(data) takes a list of numerical data as input.\n",
        "\n",
        "threshold=3 sets the Z-score at which a data point will be considered an outlier. A Z-score measures how many standard deviations a data point is from the mean. Here, any data point that is more than 3 standard deviations from the mean will be considered an outlier.\n",
        "\n",
        "mean = np.mean(data) calculates the average value of the data.\n",
        "\n",
        "std =np.std(data) calculates the standard deviation of the data. The standard deviation is a measure of how spread out the numbers in the data are.\n",
        "\n",
        "The for loop iterates over each data point in the dataset. For each data point, it calculates the Z-score (z_score= (i - mean)/std), which is the distance from the mean in units of standard deviation.\n",
        "\n",
        "if np.abs(z_score) > threshold: checks if the absolute value of the Z-score is greater than the threshold. If it is, the data point is considered an outlier and is added to the outliers list.\n",
        "\n",
        "Finally, the function returns the outliers list, which contains all the outliers in the input data."
      ]
    },
    {
      "cell_type": "code",
      "execution_count": null,
      "metadata": {
        "id": "jIm-M9_ns0Ch"
      },
      "outputs": [],
      "source": [
        "outliers=[]\n",
        "def detect_outliers(data):\n",
        "\n",
        "    threshold=3\n",
        "    mean = np.mean(data)\n",
        "    std =np.std(data)\n",
        "\n",
        "\n",
        "    for i in data:\n",
        "        z_score= (i - mean)/std\n",
        "        if np.abs(z_score) > threshold:\n",
        "            outliers.append(y)\n",
        "    return outliers"
      ]
    },
    {
      "cell_type": "code",
      "execution_count": null,
      "metadata": {
        "id": "imFcRO72s0Ci"
      },
      "outputs": [],
      "source": [
        "outlier_pt=detect_outliers(dataset)"
      ]
    },
    {
      "cell_type": "code",
      "execution_count": null,
      "metadata": {
        "id": "cq-biapes0Ci",
        "outputId": "316c42a5-a4cc-4204-862a-9f307f15d49a"
      },
      "outputs": [
        {
          "data": {
            "text/plain": [
              "[102, 107, 108]"
            ]
          },
          "execution_count": 12,
          "metadata": {},
          "output_type": "execute_result"
        }
      ],
      "source": [
        "outlier_pt"
      ]
    },
    {
      "cell_type": "markdown",
      "metadata": {
        "id": "iqInBi36s0Ck"
      },
      "source": [
        "## InterQuantile Range\n",
        "\n",
        "75%- 25% values in a dataset\n",
        "\n",
        "### Steps\n",
        "#### 1. Arrange the data in increasing order\n",
        "#### 2. Calculate first(q1) and third quartile(q3)\n",
        "#### 3. Find interquartile range (q3-q1)\n",
        "#### 4.Find lower bound q1*1.5\n",
        "#### 5.Find upper bound q3*1.5\n",
        "\n",
        "Anything that lies outside of lower and upper bound is an outlier"
      ]
    },
    {
      "cell_type": "markdown",
      "metadata": {},
      "source": [
        "The Interquartile Range (IQR) is a statistical measure used to describe the spread of data in a dataset. It is calculated as the difference between the 75th percentile (Q3) and the 25th percentile (Q1) in a dataset, representing the range within which the central 50% of the data falls. \n",
        "\n",
        "The IQR is often used to identify outliers. A common rule of thumb is that a data point is considered an outlier if it is less than Q1 - 1.5*IQR or greater than Q3 + 1.5*IQR. \n",
        "\n",
        "The advantage of the IQR is that it is not affected by extreme values as it only considers the middle 50% of the data. This makes it a more robust measure of spread compared to the range or standard deviation."
      ]
    },
    {
      "cell_type": "markdown",
      "metadata": {},
      "source": [
        "**1. The data is sorted in ascending order. This makes it easier to identify the quartiles.**"
      ]
    },
    {
      "cell_type": "code",
      "execution_count": null,
      "metadata": {
        "id": "UfAT5p6ks0Ck",
        "outputId": "0e1f3d80-fe00-4bb3-d792-01a6448b6a4b"
      },
      "outputs": [
        {
          "data": {
            "text/plain": [
              "[10,\n",
              " 10,\n",
              " 10,\n",
              " 10,\n",
              " 10,\n",
              " 11,\n",
              " 11,\n",
              " 12,\n",
              " 12,\n",
              " 12,\n",
              " 12,\n",
              " 12,\n",
              " 12,\n",
              " 12,\n",
              " 13,\n",
              " 13,\n",
              " 13,\n",
              " 13,\n",
              " 14,\n",
              " 14,\n",
              " 14,\n",
              " 14,\n",
              " 14,\n",
              " 14,\n",
              " 15,\n",
              " 15,\n",
              " 15,\n",
              " 15,\n",
              " 15,\n",
              " 17,\n",
              " 19,\n",
              " 102,\n",
              " 107,\n",
              " 108]"
            ]
          },
          "execution_count": 13,
          "metadata": {},
          "output_type": "execute_result"
        }
      ],
      "source": [
        "## Perform all the steps of IQR\n",
        "sorted(dataset)"
      ]
    },
    {
      "cell_type": "markdown",
      "metadata": {},
      "source": [
        "**2. The first quartile (Q1) and the third quartile (Q3) are calculated. Q1 is the median of the lower half of the data (not including the median of the data set if the number of data points is odd), and Q3 is the median of the upper half.**"
      ]
    },
    {
      "cell_type": "code",
      "execution_count": null,
      "metadata": {
        "id": "KdfEbnOKs0Ck"
      },
      "outputs": [],
      "source": [
        "quantile1, quantile3= np.percentile(dataset,[25,75])"
      ]
    },
    {
      "cell_type": "code",
      "execution_count": null,
      "metadata": {
        "id": "RTuCDSNks0Cl",
        "outputId": "3c6988ce-f991-436c-e47f-cd836e8a37f2"
      },
      "outputs": [
        {
          "name": "stdout",
          "output_type": "stream",
          "text": [
            "12.0 15.0\n"
          ]
        }
      ],
      "source": [
        "print(quantile1,quantile3)"
      ]
    },
    {
      "cell_type": "markdown",
      "metadata": {},
      "source": [
        "**3. The Interquartile Range (IQR) is calculated as Q3 - Q1. This represents the range within which the central 50% of the data lies**"
      ]
    },
    {
      "cell_type": "code",
      "execution_count": null,
      "metadata": {
        "id": "0_t5a6Kns0Cl",
        "outputId": "3e6b8023-8ba6-4d2f-c2eb-96e1b30ac97c"
      },
      "outputs": [
        {
          "name": "stdout",
          "output_type": "stream",
          "text": [
            "3.0\n"
          ]
        }
      ],
      "source": [
        "## Find the IQR\n",
        "\n",
        "iqr_value=quantile3-quantile1\n",
        "print(iqr_value)"
      ]
    },
    {
      "cell_type": "markdown",
      "metadata": {},
      "source": [
        "**4. The lower bound is calculated as Q1 - 1.5*IQR. Any data point below this value could be considered an outlier.**\n",
        "\n",
        "**5. The upper bound is calculated as Q3 + 1.5*IQR. Any data point above this value could be considered an outlier.**"
      ]
    },
    {
      "cell_type": "code",
      "execution_count": null,
      "metadata": {
        "id": "xs0SXSwVs0Cm"
      },
      "outputs": [],
      "source": [
        "## Find the lower bound value and the higher bound value\n",
        "\n",
        "lower_bound_val = quantile1 -(1.5 * iqr)\n",
        "upper_bound_val = quantile3 +(1.5 * iqr)"
      ]
    },
    {
      "cell_type": "code",
      "execution_count": null,
      "metadata": {
        "id": "S4fOwVf5s0Cm",
        "outputId": "48e2ce8d-a145-4bc7-a8a9-7dc035473645"
      },
      "outputs": [
        {
          "name": "stdout",
          "output_type": "stream",
          "text": [
            "7.5 19.5\n"
          ]
        }
      ],
      "source": [
        "print(lower_bound_val,upper_bound_val)"
      ]
    }
  ],
  "metadata": {
    "colab": {
      "provenance": []
    },
    "kernelspec": {
      "display_name": "Python 3",
      "language": "python",
      "name": "python3"
    },
    "language_info": {
      "codemirror_mode": {
        "name": "ipython",
        "version": 3
      },
      "file_extension": ".py",
      "mimetype": "text/x-python",
      "name": "python",
      "nbconvert_exporter": "python",
      "pygments_lexer": "ipython3",
      "version": "3.6.7"
    }
  },
  "nbformat": 4,
  "nbformat_minor": 0
}
