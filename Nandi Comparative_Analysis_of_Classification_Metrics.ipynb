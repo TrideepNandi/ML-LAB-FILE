{
  "cells": [
    {
      "cell_type": "markdown",
      "metadata": {},
      "source": [
        "# AIM : Comparative Analysis of Classification Metrics: Confusion Matrix, ROC, Precision, Recall and Accuracy with their use cases\n",
        "**Name : Trideep Nandi**\n",
        "\n",
        "**Class : CS4**\n",
        "\n",
        "**Batch: 2**\n",
        "\n",
        "**Enrollment : 0827CS211248**"
      ]
    },
    {
      "cell_type": "markdown",
      "metadata": {
        "id": "YavYHTuzHbPZ"
      },
      "source": [
        "* Accuracy gives an overall picture of model performance but might be misleading in the presence of class imbalance.\n",
        "* Precision and recall provide insights into how well the model identifies positive instances and avoids false positives, respectively.\n",
        "* F1 score balances precision and recall, making it suitable for imbalanced datasets.\n",
        "* ROC AUC evaluates the model's ability to discriminate between classes, making it useful for assessing performance across different thresholds."
      ]
    },
    {
      "cell_type": "markdown",
      "metadata": {},
      "source": [
        "# Classification Metrics\n",
        "\n",
        "## Confusion Matrix\n",
        "\n",
        "* **Definition :**\n",
        "    A confusion matrix is a table that is often used to describe the performance of a classification model. It contains information about actual and predicted classifications done by a classification system. Performance measures like accuracy, precision, recall, and F1 score are derived from it.\n",
        "\n",
        "  * **Use Case :**\n",
        "    It's used when you want to understand the types of errors made by the model. For example, in medical testing, a confusion matrix can help understand the types of misdiagnoses made by a test.\n",
        "\n",
        "## ROC (Receiver Operating Characteristic)\n",
        "\n",
        "* **Definition :**\n",
        "    ROC is a probability curve that plots the true positive rate (TPR) against the false positive rate (FPR) at various threshold settings. The area under the curve (AUC) measures the entire two-dimensional area underneath the entire ROC curve.\n",
        "\n",
        "* **Use Case :**\n",
        "    It's used when you want to compare the performance of different models or to optimize the threshold of a given model. For example, in spam detection, an ROC curve can help find the right balance between catching spam and not marking legitimate mail as spam.\n",
        "\n",
        "## Precision\n",
        "\n",
        "* **Definition :**\n",
        "    Precision is the ratio of correctly predicted positive observations to the total predicted positives. It's a measure of a classifier's exactness.\n",
        "\n",
        "* **Use Case :**\n",
        "    It's used when the cost of false positives is high. For example, in email spam detection, a high precision means that an email marked as spam is indeed spam, which is important because users don’t want to miss important emails marked as spam.\n",
        "\n",
        "## Recall (Sensitivity)\n",
        "\n",
        "* **Definition :**\n",
        "    Recall is the ratio of correctly predicted positive observations to all observations in actual class. It's a measure of a classifier's completeness.\n",
        "\n",
        "* **Use Case :**\n",
        "    It's used when the cost of false negatives is high. For example, in fraud detection, a high recall means that a large number of frauds are caught, which is important because failing to identify a fraudulent transaction can be costly.\n",
        "\n",
        "## Accuracy\n",
        "\n",
        "* **Definition :**\n",
        "    Accuracy is the ratio of correctly predicted observations to the total observations. It's the most intuitive performance measure.\n",
        "\n",
        "* **Use Case :**\n",
        "    It's used when the classes are balanced and errors of both kinds (false positives and false negatives) have similar costs. For example, in image classification, where each image can only belong to one class and each class is equally important, accuracy can be a good measure of the model's performance."
      ]
    },
    {
      "cell_type": "markdown",
      "metadata": {
        "id": "Jk0XPfamIA5E"
      },
      "source": [
        "## 1. Dataset Selection"
      ]
    },
    {
      "cell_type": "code",
      "execution_count": 1,
      "metadata": {
        "id": "Fh52hh6CHU2i"
      },
      "outputs": [],
      "source": [
        "from sklearn.datasets import load_iris\n",
        "from sklearn.model_selection import train_test_split\n",
        "\n",
        "# Load Iris dataset\n",
        "iris = load_iris()\n",
        "X = iris.data\n",
        "y = iris.target\n",
        "\n",
        "# Split the dataset into training and testing sets\n",
        "X_train, X_test, y_train, y_test = train_test_split(X, y, test_size=0.2, random_state=42)\n"
      ]
    },
    {
      "cell_type": "markdown",
      "metadata": {
        "id": "dju2dyGnIMw-"
      },
      "source": [
        "## 2. Model Training:\n",
        "\n",
        "For simplicity, we'll train a Logistic Regression classifier using scikit-learn."
      ]
    },
    {
      "cell_type": "code",
      "execution_count": 2,
      "metadata": {
        "colab": {
          "base_uri": "https://localhost:8080/",
          "height": 74
        },
        "id": "GE3zxe7NIXX-",
        "outputId": "2740f090-3af8-4c89-e112-3e42be6dfec7"
      },
      "outputs": [
        {
          "data": {
            "text/html": [
              "<style>#sk-container-id-1 {color: black;background-color: white;}#sk-container-id-1 pre{padding: 0;}#sk-container-id-1 div.sk-toggleable {background-color: white;}#sk-container-id-1 label.sk-toggleable__label {cursor: pointer;display: block;width: 100%;margin-bottom: 0;padding: 0.3em;box-sizing: border-box;text-align: center;}#sk-container-id-1 label.sk-toggleable__label-arrow:before {content: \"▸\";float: left;margin-right: 0.25em;color: #696969;}#sk-container-id-1 label.sk-toggleable__label-arrow:hover:before {color: black;}#sk-container-id-1 div.sk-estimator:hover label.sk-toggleable__label-arrow:before {color: black;}#sk-container-id-1 div.sk-toggleable__content {max-height: 0;max-width: 0;overflow: hidden;text-align: left;background-color: #f0f8ff;}#sk-container-id-1 div.sk-toggleable__content pre {margin: 0.2em;color: black;border-radius: 0.25em;background-color: #f0f8ff;}#sk-container-id-1 input.sk-toggleable__control:checked~div.sk-toggleable__content {max-height: 200px;max-width: 100%;overflow: auto;}#sk-container-id-1 input.sk-toggleable__control:checked~label.sk-toggleable__label-arrow:before {content: \"▾\";}#sk-container-id-1 div.sk-estimator input.sk-toggleable__control:checked~label.sk-toggleable__label {background-color: #d4ebff;}#sk-container-id-1 div.sk-label input.sk-toggleable__control:checked~label.sk-toggleable__label {background-color: #d4ebff;}#sk-container-id-1 input.sk-hidden--visually {border: 0;clip: rect(1px 1px 1px 1px);clip: rect(1px, 1px, 1px, 1px);height: 1px;margin: -1px;overflow: hidden;padding: 0;position: absolute;width: 1px;}#sk-container-id-1 div.sk-estimator {font-family: monospace;background-color: #f0f8ff;border: 1px dotted black;border-radius: 0.25em;box-sizing: border-box;margin-bottom: 0.5em;}#sk-container-id-1 div.sk-estimator:hover {background-color: #d4ebff;}#sk-container-id-1 div.sk-parallel-item::after {content: \"\";width: 100%;border-bottom: 1px solid gray;flex-grow: 1;}#sk-container-id-1 div.sk-label:hover label.sk-toggleable__label {background-color: #d4ebff;}#sk-container-id-1 div.sk-serial::before {content: \"\";position: absolute;border-left: 1px solid gray;box-sizing: border-box;top: 0;bottom: 0;left: 50%;z-index: 0;}#sk-container-id-1 div.sk-serial {display: flex;flex-direction: column;align-items: center;background-color: white;padding-right: 0.2em;padding-left: 0.2em;position: relative;}#sk-container-id-1 div.sk-item {position: relative;z-index: 1;}#sk-container-id-1 div.sk-parallel {display: flex;align-items: stretch;justify-content: center;background-color: white;position: relative;}#sk-container-id-1 div.sk-item::before, #sk-container-id-1 div.sk-parallel-item::before {content: \"\";position: absolute;border-left: 1px solid gray;box-sizing: border-box;top: 0;bottom: 0;left: 50%;z-index: -1;}#sk-container-id-1 div.sk-parallel-item {display: flex;flex-direction: column;z-index: 1;position: relative;background-color: white;}#sk-container-id-1 div.sk-parallel-item:first-child::after {align-self: flex-end;width: 50%;}#sk-container-id-1 div.sk-parallel-item:last-child::after {align-self: flex-start;width: 50%;}#sk-container-id-1 div.sk-parallel-item:only-child::after {width: 0;}#sk-container-id-1 div.sk-dashed-wrapped {border: 1px dashed gray;margin: 0 0.4em 0.5em 0.4em;box-sizing: border-box;padding-bottom: 0.4em;background-color: white;}#sk-container-id-1 div.sk-label label {font-family: monospace;font-weight: bold;display: inline-block;line-height: 1.2em;}#sk-container-id-1 div.sk-label-container {text-align: center;}#sk-container-id-1 div.sk-container {/* jupyter's `normalize.less` sets `[hidden] { display: none; }` but bootstrap.min.css set `[hidden] { display: none !important; }` so we also need the `!important` here to be able to override the default hidden behavior on the sphinx rendered scikit-learn.org. See: https://github.com/scikit-learn/scikit-learn/issues/21755 */display: inline-block !important;position: relative;}#sk-container-id-1 div.sk-text-repr-fallback {display: none;}</style><div id=\"sk-container-id-1\" class=\"sk-top-container\"><div class=\"sk-text-repr-fallback\"><pre>LogisticRegression(max_iter=1000)</pre><b>In a Jupyter environment, please rerun this cell to show the HTML representation or trust the notebook. <br />On GitHub, the HTML representation is unable to render, please try loading this page with nbviewer.org.</b></div><div class=\"sk-container\" hidden><div class=\"sk-item\"><div class=\"sk-estimator sk-toggleable\"><input class=\"sk-toggleable__control sk-hidden--visually\" id=\"sk-estimator-id-1\" type=\"checkbox\" checked><label for=\"sk-estimator-id-1\" class=\"sk-toggleable__label sk-toggleable__label-arrow\">LogisticRegression</label><div class=\"sk-toggleable__content\"><pre>LogisticRegression(max_iter=1000)</pre></div></div></div></div></div>"
            ],
            "text/plain": [
              "LogisticRegression(max_iter=1000)"
            ]
          },
          "execution_count": 2,
          "metadata": {},
          "output_type": "execute_result"
        }
      ],
      "source": [
        "from sklearn.linear_model import LogisticRegression\n",
        "\n",
        "# Initialize and train the logistic regression model\n",
        "model = LogisticRegression(max_iter=1000)\n",
        "model.fit(X_train, y_train)\n"
      ]
    },
    {
      "cell_type": "markdown",
      "metadata": {
        "id": "MVNRoVedIbHm"
      },
      "source": [
        "## 3. Model Evaluation:"
      ]
    },
    {
      "cell_type": "code",
      "execution_count": 3,
      "metadata": {
        "colab": {
          "base_uri": "https://localhost:8080/",
          "height": 635
        },
        "id": "zfekgwcDIfQ7",
        "outputId": "8ab88613-9b4d-4ed9-98a3-1d09d4836ed0"
      },
      "outputs": [
        {
          "data": {
            "image/png": "[encoded data removed]",
            "text/plain": [
              "<Figure size 640x480 with 1 Axes>"
            ]
          },
          "metadata": {},
          "output_type": "display_data"
        },
        {
          "name": "stdout",
          "output_type": "stream",
          "text": [
            "Confusion Matrix:\n",
            " [[10  0  0]\n",
            " [ 0  9  0]\n",
            " [ 0  0 11]]\n",
            "Accuracy: 1.0\n",
            "Precision: 1.0\n",
            "Recall: 1.0\n",
            "F1 Score: 1.0\n",
            "ROC AUC: 1.0\n"
          ]
        }
      ],
      "source": [
        "# Import necessary libraries and functions\n",
        "from sklearn.metrics import confusion_matrix, accuracy_score, precision_score, recall_score, f1_score, roc_auc_score, roc_curve\n",
        "import matplotlib.pyplot as plt\n",
        "\n",
        "# Use the trained model to make predictions on the test set\n",
        "y_pred = model.predict(X_test)\n",
        "\n",
        "# Compute the confusion matrix\n",
        "cm = confusion_matrix(y_test, y_pred)\n",
        "\n",
        "# Calculate the accuracy of the model\n",
        "accuracy = accuracy_score(y_test, y_pred)\n",
        "\n",
        "# Calculate the precision of the model\n",
        "precision = precision_score(y_test, y_pred, average='weighted')\n",
        "\n",
        "# Calculate the recall of the model\n",
        "recall = recall_score(y_test, y_pred, average='weighted')\n",
        "\n",
        "# Calculate the F1 score of the model\n",
        "f1 = f1_score(y_test, y_pred, average='weighted')\n",
        "\n",
        "# Get the probability estimates for the test set\n",
        "y_probs = model.predict_proba(X_test)\n",
        "\n",
        "# Compute the Area Under the Receiver Operating Characteristic Curve (ROC AUC) from prediction scores\n",
        "roc_auc = roc_auc_score(y_test, y_probs, multi_class='ovr')\n",
        "\n",
        "# Compute the false positive rate, true positive rate, and thresholds to plot the ROC curve\n",
        "fpr, tpr, thresholds = roc_curve(y_test, y_probs[:, 1], pos_label=1)\n",
        "\n",
        "# Plot the ROC curve\n",
        "plt.plot(fpr, tpr, label='ROC curve (area = %0.2f)' % roc_auc)\n",
        "\n",
        "# Plot the diagonal line, which represents a random classifier\n",
        "plt.plot([0, 1], [0, 1], 'k--')\n",
        "\n",
        "# Set the limits of x and y axes\n",
        "plt.xlim([0.0, 1.0])\n",
        "plt.ylim([0.0, 1.05])\n",
        "\n",
        "# Set the labels of x and y axes and the title of the plot\n",
        "plt.xlabel('False Positive Rate')\n",
        "plt.ylabel('True Positive Rate')\n",
        "plt.title('Receiver Operating Characteristic (ROC)')\n",
        "\n",
        "# Place a legend on the plot\n",
        "plt.legend(loc=\"lower right\")\n",
        "\n",
        "# Display the plot\n",
        "plt.show()\n",
        "\n",
        "# Print the computed metrics and the confusion matrix\n",
        "print(\"Confusion Matrix:\\n\", cm)\n",
        "print(\"Accuracy:\", accuracy)\n",
        "print(\"Precision:\", precision)\n",
        "print(\"Recall:\", recall)\n",
        "print(\"F1 Score:\", f1)\n",
        "print(\"ROC AUC:\", roc_auc)"
      ]
    },
    {
      "cell_type": "markdown",
      "metadata": {
        "id": "9gm2SRnfI6x5"
      },
      "source": [
        "## 4. Summary:\n",
        "\n",
        "* For balanced datasets like Iris, accuracy is generally reliable. However, in scenarios with class imbalance, precision, recall, and F1 score provide a better understanding of model performance.\n",
        "* Precision is important when minimizing false positives is crucial, while recall is vital when capturing all positive instances is a priority.\n",
        "* F1 score balances precision and recall, making it suitable for scenarios where both metrics are important.\n",
        "* ROC AUC provides a comprehensive view of model performance across different thresholds and is useful when the trade-off between true positive rate and false positive rate needs to be considered."
      ]
    }
  ],
  "metadata": {
    "colab": {
      "provenance": []
    },
    "kernelspec": {
      "display_name": "Python 3",
      "name": "python3"
    },
    "language_info": {
      "name": "python"
    }
  },
  "nbformat": 4,
  "nbformat_minor": 0
}
